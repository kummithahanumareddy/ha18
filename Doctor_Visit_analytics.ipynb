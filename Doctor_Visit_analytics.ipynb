{
 "cells": [
  {
   "cell_type": "code",
   "execution_count": 1,
   "id": "3c0f00ac",
   "metadata": {},
   "outputs": [],
   "source": [
    "import matplotlib.pyplot as plt\n",
    "import pandas as pd\n",
    "import numpy as np\n",
    "import seaborn as sns"
   ]
  },
  {
   "cell_type": "markdown",
   "id": "bc38bb67",
   "metadata": {},
   "source": [
    "# Read the dataset"
   ]
  },
  {
   "cell_type": "code",
   "execution_count": 117,
   "id": "8b1104d4",
   "metadata": {},
   "outputs": [],
   "source": [
    "df=pd.read_csv(\"C:/Users/HP/OneDrive/Desktop/DoctorVisits.csv\")"
   ]
  },
  {
   "cell_type": "code",
   "execution_count": 120,
   "id": "0925ef16",
   "metadata": {},
   "outputs": [
    {
     "data": {
      "text/html": [
       "<div>\n",
       "<style scoped>\n",
       "    .dataframe tbody tr th:only-of-type {\n",
       "        vertical-align: middle;\n",
       "    }\n",
       "\n",
       "    .dataframe tbody tr th {\n",
       "        vertical-align: top;\n",
       "    }\n",
       "\n",
       "    .dataframe thead th {\n",
       "        text-align: right;\n",
       "    }\n",
       "</style>\n",
       "<table border=\"1\" class=\"dataframe\">\n",
       "  <thead>\n",
       "    <tr style=\"text-align: right;\">\n",
       "      <th></th>\n",
       "      <th>unamed:0</th>\n",
       "      <th>visits</th>\n",
       "      <th>gender</th>\n",
       "      <th>age</th>\n",
       "      <th>income</th>\n",
       "      <th>iiilness</th>\n",
       "      <th>reduced</th>\n",
       "      <th>health</th>\n",
       "      <th>private</th>\n",
       "      <th>freepoor</th>\n",
       "      <th>freerepat</th>\n",
       "      <th>nchronic</th>\n",
       "      <th>ichronic</th>\n",
       "    </tr>\n",
       "  </thead>\n",
       "  <tbody>\n",
       "    <tr>\n",
       "      <th>0</th>\n",
       "      <td>1</td>\n",
       "      <td>1</td>\n",
       "      <td>female</td>\n",
       "      <td>34</td>\n",
       "      <td>0.55</td>\n",
       "      <td>1</td>\n",
       "      <td>4</td>\n",
       "      <td>1</td>\n",
       "      <td>yes</td>\n",
       "      <td>no</td>\n",
       "      <td>no</td>\n",
       "      <td>no</td>\n",
       "      <td>no</td>\n",
       "    </tr>\n",
       "    <tr>\n",
       "      <th>1</th>\n",
       "      <td>2</td>\n",
       "      <td>1</td>\n",
       "      <td>female</td>\n",
       "      <td>24</td>\n",
       "      <td>0.45</td>\n",
       "      <td>1</td>\n",
       "      <td>2</td>\n",
       "      <td>1</td>\n",
       "      <td>yes</td>\n",
       "      <td>no</td>\n",
       "      <td>no</td>\n",
       "      <td>no</td>\n",
       "      <td>no</td>\n",
       "    </tr>\n",
       "    <tr>\n",
       "      <th>2</th>\n",
       "      <td>3</td>\n",
       "      <td>1</td>\n",
       "      <td>male</td>\n",
       "      <td>18</td>\n",
       "      <td>0.90</td>\n",
       "      <td>3</td>\n",
       "      <td>0</td>\n",
       "      <td>0</td>\n",
       "      <td>no</td>\n",
       "      <td>no</td>\n",
       "      <td>no</td>\n",
       "      <td>no</td>\n",
       "      <td>no</td>\n",
       "    </tr>\n",
       "    <tr>\n",
       "      <th>3</th>\n",
       "      <td>4</td>\n",
       "      <td>1</td>\n",
       "      <td>male</td>\n",
       "      <td>20</td>\n",
       "      <td>0.15</td>\n",
       "      <td>1</td>\n",
       "      <td>0</td>\n",
       "      <td>0</td>\n",
       "      <td>no</td>\n",
       "      <td>no</td>\n",
       "      <td>no</td>\n",
       "      <td>no</td>\n",
       "      <td>no</td>\n",
       "    </tr>\n",
       "    <tr>\n",
       "      <th>4</th>\n",
       "      <td>5</td>\n",
       "      <td>1</td>\n",
       "      <td>male</td>\n",
       "      <td>45</td>\n",
       "      <td>0.45</td>\n",
       "      <td>2</td>\n",
       "      <td>5</td>\n",
       "      <td>1</td>\n",
       "      <td>no</td>\n",
       "      <td>no</td>\n",
       "      <td>no</td>\n",
       "      <td>yes</td>\n",
       "      <td>no</td>\n",
       "    </tr>\n",
       "    <tr>\n",
       "      <th>5</th>\n",
       "      <td>6</td>\n",
       "      <td>1</td>\n",
       "      <td>female</td>\n",
       "      <td>78</td>\n",
       "      <td>0.35</td>\n",
       "      <td>5</td>\n",
       "      <td>1</td>\n",
       "      <td>9</td>\n",
       "      <td>no</td>\n",
       "      <td>no</td>\n",
       "      <td>no</td>\n",
       "      <td>yes</td>\n",
       "      <td>no</td>\n",
       "    </tr>\n",
       "    <tr>\n",
       "      <th>6</th>\n",
       "      <td>7</td>\n",
       "      <td>1</td>\n",
       "      <td>female</td>\n",
       "      <td>48</td>\n",
       "      <td>0.55</td>\n",
       "      <td>4</td>\n",
       "      <td>0</td>\n",
       "      <td>2</td>\n",
       "      <td>no</td>\n",
       "      <td>no</td>\n",
       "      <td>no</td>\n",
       "      <td>no</td>\n",
       "      <td>no</td>\n",
       "    </tr>\n",
       "    <tr>\n",
       "      <th>7</th>\n",
       "      <td>8</td>\n",
       "      <td>1</td>\n",
       "      <td>female</td>\n",
       "      <td>24</td>\n",
       "      <td>0.15</td>\n",
       "      <td>3</td>\n",
       "      <td>0</td>\n",
       "      <td>6</td>\n",
       "      <td>no</td>\n",
       "      <td>no</td>\n",
       "      <td>no</td>\n",
       "      <td>no</td>\n",
       "      <td>no</td>\n",
       "    </tr>\n",
       "    <tr>\n",
       "      <th>8</th>\n",
       "      <td>9</td>\n",
       "      <td>1</td>\n",
       "      <td>female</td>\n",
       "      <td>34</td>\n",
       "      <td>0.65</td>\n",
       "      <td>2</td>\n",
       "      <td>0</td>\n",
       "      <td>5</td>\n",
       "      <td>yes</td>\n",
       "      <td>no</td>\n",
       "      <td>no</td>\n",
       "      <td>no</td>\n",
       "      <td>no</td>\n",
       "    </tr>\n",
       "    <tr>\n",
       "      <th>9</th>\n",
       "      <td>10</td>\n",
       "      <td>1</td>\n",
       "      <td>male</td>\n",
       "      <td>24</td>\n",
       "      <td>0.15</td>\n",
       "      <td>1</td>\n",
       "      <td>0</td>\n",
       "      <td>0</td>\n",
       "      <td>yes</td>\n",
       "      <td>no</td>\n",
       "      <td>no</td>\n",
       "      <td>no</td>\n",
       "      <td>no</td>\n",
       "    </tr>\n",
       "    <tr>\n",
       "      <th>10</th>\n",
       "      <td>11</td>\n",
       "      <td>1</td>\n",
       "      <td>male</td>\n",
       "      <td>18</td>\n",
       "      <td>0.45</td>\n",
       "      <td>1</td>\n",
       "      <td>0</td>\n",
       "      <td>0</td>\n",
       "      <td>no</td>\n",
       "      <td>yes</td>\n",
       "      <td>no</td>\n",
       "      <td>no</td>\n",
       "      <td>no</td>\n",
       "    </tr>\n",
       "    <tr>\n",
       "      <th>11</th>\n",
       "      <td>12</td>\n",
       "      <td>1</td>\n",
       "      <td>male</td>\n",
       "      <td>20</td>\n",
       "      <td>0.25</td>\n",
       "      <td>2</td>\n",
       "      <td>0</td>\n",
       "      <td>2</td>\n",
       "      <td>no</td>\n",
       "      <td>no</td>\n",
       "      <td>yes</td>\n",
       "      <td>no</td>\n",
       "      <td>no</td>\n",
       "    </tr>\n",
       "    <tr>\n",
       "      <th>12</th>\n",
       "      <td>13</td>\n",
       "      <td>2</td>\n",
       "      <td>male</td>\n",
       "      <td>45</td>\n",
       "      <td>0.55</td>\n",
       "      <td>3</td>\n",
       "      <td>13</td>\n",
       "      <td>1</td>\n",
       "      <td>no</td>\n",
       "      <td>no</td>\n",
       "      <td>no</td>\n",
       "      <td>yes</td>\n",
       "      <td>no</td>\n",
       "    </tr>\n",
       "    <tr>\n",
       "      <th>13</th>\n",
       "      <td>14</td>\n",
       "      <td>1</td>\n",
       "      <td>male</td>\n",
       "      <td>78</td>\n",
       "      <td>0.65</td>\n",
       "      <td>4</td>\n",
       "      <td>7</td>\n",
       "      <td>6</td>\n",
       "      <td>no</td>\n",
       "      <td>no</td>\n",
       "      <td>no</td>\n",
       "      <td>yes</td>\n",
       "      <td>no</td>\n",
       "    </tr>\n",
       "    <tr>\n",
       "      <th>14</th>\n",
       "      <td>15</td>\n",
       "      <td>1</td>\n",
       "      <td>male</td>\n",
       "      <td>48</td>\n",
       "      <td>0.25</td>\n",
       "      <td>3</td>\n",
       "      <td>1</td>\n",
       "      <td>0</td>\n",
       "      <td>yes</td>\n",
       "      <td>no</td>\n",
       "      <td>no</td>\n",
       "      <td>yes</td>\n",
       "      <td>no</td>\n",
       "    </tr>\n",
       "    <tr>\n",
       "      <th>15</th>\n",
       "      <td>16</td>\n",
       "      <td>1</td>\n",
       "      <td>female</td>\n",
       "      <td>24</td>\n",
       "      <td>0.65</td>\n",
       "      <td>1</td>\n",
       "      <td>4</td>\n",
       "      <td>1</td>\n",
       "      <td>yes</td>\n",
       "      <td>no</td>\n",
       "      <td>no</td>\n",
       "      <td>no</td>\n",
       "      <td>no</td>\n",
       "    </tr>\n",
       "    <tr>\n",
       "      <th>16</th>\n",
       "      <td>17</td>\n",
       "      <td>1</td>\n",
       "      <td>female</td>\n",
       "      <td>33</td>\n",
       "      <td>0.65</td>\n",
       "      <td>1</td>\n",
       "      <td>2</td>\n",
       "      <td>1</td>\n",
       "      <td>yes</td>\n",
       "      <td>no</td>\n",
       "      <td>no</td>\n",
       "      <td>no</td>\n",
       "      <td>no</td>\n",
       "    </tr>\n",
       "    <tr>\n",
       "      <th>17</th>\n",
       "      <td>18</td>\n",
       "      <td>1</td>\n",
       "      <td>male</td>\n",
       "      <td>24</td>\n",
       "      <td>0.65</td>\n",
       "      <td>3</td>\n",
       "      <td>0</td>\n",
       "      <td>0</td>\n",
       "      <td>no</td>\n",
       "      <td>yes</td>\n",
       "      <td>no</td>\n",
       "      <td>no</td>\n",
       "      <td>no</td>\n",
       "    </tr>\n",
       "    <tr>\n",
       "      <th>18</th>\n",
       "      <td>19</td>\n",
       "      <td>1</td>\n",
       "      <td>male</td>\n",
       "      <td>45</td>\n",
       "      <td>0.55</td>\n",
       "      <td>1</td>\n",
       "      <td>0</td>\n",
       "      <td>0</td>\n",
       "      <td>no</td>\n",
       "      <td>no</td>\n",
       "      <td>no</td>\n",
       "      <td>no</td>\n",
       "      <td>no</td>\n",
       "    </tr>\n",
       "    <tr>\n",
       "      <th>19</th>\n",
       "      <td>20</td>\n",
       "      <td>1</td>\n",
       "      <td>male</td>\n",
       "      <td>60</td>\n",
       "      <td>0.15</td>\n",
       "      <td>2</td>\n",
       "      <td>5</td>\n",
       "      <td>1</td>\n",
       "      <td>no</td>\n",
       "      <td>no</td>\n",
       "      <td>no</td>\n",
       "      <td>yes</td>\n",
       "      <td>no</td>\n",
       "    </tr>\n",
       "    <tr>\n",
       "      <th>20</th>\n",
       "      <td>21</td>\n",
       "      <td>1</td>\n",
       "      <td>female</td>\n",
       "      <td>78</td>\n",
       "      <td>0.65</td>\n",
       "      <td>5</td>\n",
       "      <td>1</td>\n",
       "      <td>9</td>\n",
       "      <td>no</td>\n",
       "      <td>no</td>\n",
       "      <td>no</td>\n",
       "      <td>yes</td>\n",
       "      <td>no</td>\n",
       "    </tr>\n",
       "    <tr>\n",
       "      <th>21</th>\n",
       "      <td>22</td>\n",
       "      <td>1</td>\n",
       "      <td>female</td>\n",
       "      <td>60</td>\n",
       "      <td>0.15</td>\n",
       "      <td>4</td>\n",
       "      <td>0</td>\n",
       "      <td>2</td>\n",
       "      <td>no</td>\n",
       "      <td>no</td>\n",
       "      <td>no</td>\n",
       "      <td>no</td>\n",
       "      <td>no</td>\n",
       "    </tr>\n",
       "    <tr>\n",
       "      <th>22</th>\n",
       "      <td>23</td>\n",
       "      <td>1</td>\n",
       "      <td>female</td>\n",
       "      <td>45</td>\n",
       "      <td>0.45</td>\n",
       "      <td>3</td>\n",
       "      <td>0</td>\n",
       "      <td>6</td>\n",
       "      <td>no</td>\n",
       "      <td>no</td>\n",
       "      <td>no</td>\n",
       "      <td>no</td>\n",
       "      <td>no</td>\n",
       "    </tr>\n",
       "  </tbody>\n",
       "</table>\n",
       "</div>"
      ],
      "text/plain": [
       "    unamed:0  visits  gender  age  income  iiilness  reduced  health private  \\\n",
       "0          1       1  female   34    0.55         1        4       1     yes   \n",
       "1          2       1  female   24    0.45         1        2       1     yes   \n",
       "2          3       1    male   18    0.90         3        0       0      no   \n",
       "3          4       1    male   20    0.15         1        0       0      no   \n",
       "4          5       1    male   45    0.45         2        5       1      no   \n",
       "5          6       1  female   78    0.35         5        1       9      no   \n",
       "6          7       1  female   48    0.55         4        0       2      no   \n",
       "7          8       1  female   24    0.15         3        0       6      no   \n",
       "8          9       1  female   34    0.65         2        0       5     yes   \n",
       "9         10       1    male   24    0.15         1        0       0     yes   \n",
       "10        11       1    male   18    0.45         1        0       0      no   \n",
       "11        12       1    male   20    0.25         2        0       2      no   \n",
       "12        13       2    male   45    0.55         3       13       1      no   \n",
       "13        14       1    male   78    0.65         4        7       6      no   \n",
       "14        15       1    male   48    0.25         3        1       0     yes   \n",
       "15        16       1  female   24    0.65         1        4       1     yes   \n",
       "16        17       1  female   33    0.65         1        2       1     yes   \n",
       "17        18       1    male   24    0.65         3        0       0      no   \n",
       "18        19       1    male   45    0.55         1        0       0      no   \n",
       "19        20       1    male   60    0.15         2        5       1      no   \n",
       "20        21       1  female   78    0.65         5        1       9      no   \n",
       "21        22       1  female   60    0.15         4        0       2      no   \n",
       "22        23       1  female   45    0.45         3        0       6      no   \n",
       "\n",
       "   freepoor freerepat nchronic ichronic  \n",
       "0        no        no       no       no  \n",
       "1        no        no       no       no  \n",
       "2        no        no       no       no  \n",
       "3        no        no       no       no  \n",
       "4        no        no      yes       no  \n",
       "5        no        no      yes       no  \n",
       "6        no        no       no       no  \n",
       "7        no        no       no       no  \n",
       "8        no        no       no       no  \n",
       "9        no        no       no       no  \n",
       "10      yes        no       no       no  \n",
       "11       no       yes       no       no  \n",
       "12       no        no      yes       no  \n",
       "13       no        no      yes       no  \n",
       "14       no        no      yes       no  \n",
       "15       no        no       no       no  \n",
       "16       no        no       no       no  \n",
       "17      yes        no       no       no  \n",
       "18       no        no       no       no  \n",
       "19       no        no      yes       no  \n",
       "20       no        no      yes       no  \n",
       "21       no        no       no       no  \n",
       "22       no        no       no       no  "
      ]
     },
     "execution_count": 120,
     "metadata": {},
     "output_type": "execute_result"
    }
   ],
   "source": [
    "df.head(23)"
   ]
  },
  {
   "cell_type": "raw",
   "id": "4e8f6539",
   "metadata": {},
   "source": []
  },
  {
   "cell_type": "markdown",
   "id": "c7f48435",
   "metadata": {},
   "source": [
    "# Display complete information about the columns of the dataset such as Column name,Count,Data type and overall memory usage"
   ]
  },
  {
   "cell_type": "code",
   "execution_count": 121,
   "id": "03f28da3",
   "metadata": {},
   "outputs": [
    {
     "name": "stdout",
     "output_type": "stream",
     "text": [
      "<class 'pandas.core.frame.DataFrame'>\n",
      "RangeIndex: 82 entries, 0 to 81\n",
      "Data columns (total 13 columns):\n",
      " #   Column     Non-Null Count  Dtype  \n",
      "---  ------     --------------  -----  \n",
      " 0   unamed:0   82 non-null     int64  \n",
      " 1   visits     82 non-null     int64  \n",
      " 2   gender     82 non-null     object \n",
      " 3   age        82 non-null     int64  \n",
      " 4   income     82 non-null     float64\n",
      " 5   iiilness   82 non-null     int64  \n",
      " 6   reduced    82 non-null     int64  \n",
      " 7   health     82 non-null     int64  \n",
      " 8   private    82 non-null     object \n",
      " 9   freepoor   82 non-null     object \n",
      " 10  freerepat  82 non-null     object \n",
      " 11  nchronic   82 non-null     object \n",
      " 12  ichronic   82 non-null     object \n",
      "dtypes: float64(1), int64(6), object(6)\n",
      "memory usage: 8.5+ KB\n"
     ]
    }
   ],
   "source": [
    "df.info()"
   ]
  },
  {
   "cell_type": "markdown",
   "id": "0813bfbf",
   "metadata": {},
   "source": [
    "# Find out the total no.of people based on their count of illeness"
   ]
  },
  {
   "cell_type": "code",
   "execution_count": 122,
   "id": "b1eacdcc",
   "metadata": {},
   "outputs": [
    {
     "data": {
      "text/plain": [
       "1    27\n",
       "3    22\n",
       "2    17\n",
       "4    11\n",
       "5     5\n",
       "Name: iiilness, dtype: int64"
      ]
     },
     "execution_count": 122,
     "metadata": {},
     "output_type": "execute_result"
    }
   ],
   "source": [
    "df[\"iiilness\"].value_counts()"
   ]
  },
  {
   "cell_type": "code",
   "execution_count": 123,
   "id": "b60409f9",
   "metadata": {},
   "outputs": [
    {
     "data": {
      "text/plain": [
       "male      50\n",
       "female    32\n",
       "Name: gender, dtype: int64"
      ]
     },
     "execution_count": 123,
     "metadata": {},
     "output_type": "execute_result"
    }
   ],
   "source": [
    "df[\"gender\"].value_counts()"
   ]
  },
  {
   "cell_type": "markdown",
   "id": "051326b1",
   "metadata": {},
   "source": [
    "# Visualize and analyse the maximum,minimum and medium imcome"
   ]
  },
  {
   "cell_type": "code",
   "execution_count": 124,
   "id": "ca27efef",
   "metadata": {},
   "outputs": [
    {
     "data": {
      "image/png": "[encoded data removed]",
      "text/plain": [
       "<Figure size 432x288 with 1 Axes>"
      ]
     },
     "metadata": {
      "needs_background": "light"
     },
     "output_type": "display_data"
    }
   ],
   "source": [
    "y=list(df.income)\n",
    "plt.boxplot(y)\n",
    "plt.show()"
   ]
  },
  {
   "cell_type": "markdown",
   "id": "86785a46",
   "metadata": {},
   "source": [
    "# Find out the no of days of reduced activity of male and female seperately due to illness"
   ]
  },
  {
   "cell_type": "code",
   "execution_count": 125,
   "id": "4ba67153",
   "metadata": {},
   "outputs": [
    {
     "data": {
      "text/html": [
       "<div>\n",
       "<style scoped>\n",
       "    .dataframe tbody tr th:only-of-type {\n",
       "        vertical-align: middle;\n",
       "    }\n",
       "\n",
       "    .dataframe tbody tr th {\n",
       "        vertical-align: top;\n",
       "    }\n",
       "\n",
       "    .dataframe thead th {\n",
       "        text-align: right;\n",
       "    }\n",
       "</style>\n",
       "<table border=\"1\" class=\"dataframe\">\n",
       "  <thead>\n",
       "    <tr style=\"text-align: right;\">\n",
       "      <th></th>\n",
       "      <th></th>\n",
       "      <th>unamed:0</th>\n",
       "      <th>visits</th>\n",
       "      <th>age</th>\n",
       "      <th>income</th>\n",
       "      <th>iiilness</th>\n",
       "      <th>health</th>\n",
       "    </tr>\n",
       "    <tr>\n",
       "      <th>gender</th>\n",
       "      <th>reduced</th>\n",
       "      <th></th>\n",
       "      <th></th>\n",
       "      <th></th>\n",
       "      <th></th>\n",
       "      <th></th>\n",
       "      <th></th>\n",
       "    </tr>\n",
       "  </thead>\n",
       "  <tbody>\n",
       "    <tr>\n",
       "      <th rowspan=\"4\" valign=\"top\">female</th>\n",
       "      <th>0</th>\n",
       "      <td>42.176471</td>\n",
       "      <td>1.0</td>\n",
       "      <td>55.823529</td>\n",
       "      <td>0.490588</td>\n",
       "      <td>2.941176</td>\n",
       "      <td>4.470588</td>\n",
       "    </tr>\n",
       "    <tr>\n",
       "      <th>1</th>\n",
       "      <td>37.600000</td>\n",
       "      <td>1.0</td>\n",
       "      <td>61.200000</td>\n",
       "      <td>0.480000</td>\n",
       "      <td>5.000000</td>\n",
       "      <td>9.000000</td>\n",
       "    </tr>\n",
       "    <tr>\n",
       "      <th>2</th>\n",
       "      <td>33.600000</td>\n",
       "      <td>1.0</td>\n",
       "      <td>35.400000</td>\n",
       "      <td>0.530000</td>\n",
       "      <td>1.000000</td>\n",
       "      <td>1.000000</td>\n",
       "    </tr>\n",
       "    <tr>\n",
       "      <th>4</th>\n",
       "      <td>32.600000</td>\n",
       "      <td>1.0</td>\n",
       "      <td>52.400000</td>\n",
       "      <td>0.628000</td>\n",
       "      <td>1.000000</td>\n",
       "      <td>1.000000</td>\n",
       "    </tr>\n",
       "    <tr>\n",
       "      <th rowspan=\"5\" valign=\"top\">male</th>\n",
       "      <th>0</th>\n",
       "      <td>42.214286</td>\n",
       "      <td>1.0</td>\n",
       "      <td>32.357143</td>\n",
       "      <td>0.550000</td>\n",
       "      <td>1.571429</td>\n",
       "      <td>0.428571</td>\n",
       "    </tr>\n",
       "    <tr>\n",
       "      <th>1</th>\n",
       "      <td>43.600000</td>\n",
       "      <td>1.0</td>\n",
       "      <td>47.200000</td>\n",
       "      <td>0.368000</td>\n",
       "      <td>3.000000</td>\n",
       "      <td>0.000000</td>\n",
       "    </tr>\n",
       "    <tr>\n",
       "      <th>5</th>\n",
       "      <td>36.600000</td>\n",
       "      <td>1.0</td>\n",
       "      <td>39.600000</td>\n",
       "      <td>0.480000</td>\n",
       "      <td>2.000000</td>\n",
       "      <td>1.000000</td>\n",
       "    </tr>\n",
       "    <tr>\n",
       "      <th>7</th>\n",
       "      <td>49.166667</td>\n",
       "      <td>1.0</td>\n",
       "      <td>33.166667</td>\n",
       "      <td>0.565000</td>\n",
       "      <td>4.000000</td>\n",
       "      <td>6.000000</td>\n",
       "    </tr>\n",
       "    <tr>\n",
       "      <th>13</th>\n",
       "      <td>48.166667</td>\n",
       "      <td>2.0</td>\n",
       "      <td>24.833333</td>\n",
       "      <td>0.531667</td>\n",
       "      <td>3.000000</td>\n",
       "      <td>1.000000</td>\n",
       "    </tr>\n",
       "  </tbody>\n",
       "</table>\n",
       "</div>"
      ],
      "text/plain": [
       "                 unamed:0  visits        age    income  iiilness    health\n",
       "gender reduced                                                            \n",
       "female 0        42.176471     1.0  55.823529  0.490588  2.941176  4.470588\n",
       "       1        37.600000     1.0  61.200000  0.480000  5.000000  9.000000\n",
       "       2        33.600000     1.0  35.400000  0.530000  1.000000  1.000000\n",
       "       4        32.600000     1.0  52.400000  0.628000  1.000000  1.000000\n",
       "male   0        42.214286     1.0  32.357143  0.550000  1.571429  0.428571\n",
       "       1        43.600000     1.0  47.200000  0.368000  3.000000  0.000000\n",
       "       5        36.600000     1.0  39.600000  0.480000  2.000000  1.000000\n",
       "       7        49.166667     1.0  33.166667  0.565000  4.000000  6.000000\n",
       "       13       48.166667     2.0  24.833333  0.531667  3.000000  1.000000"
      ]
     },
     "execution_count": 125,
     "metadata": {},
     "output_type": "execute_result"
    }
   ],
   "source": [
    "df.groupby(['gender','reduced']).mean()"
   ]
  },
  {
   "cell_type": "markdown",
   "id": "d1ab3b7b",
   "metadata": {},
   "source": [
    "# visualize is there is any missing values in the dataset based on a heat map"
   ]
  },
  {
   "cell_type": "code",
   "execution_count": 126,
   "id": "8f5e1c77",
   "metadata": {},
   "outputs": [
    {
     "data": {
      "text/plain": [
       "<AxesSubplot:>"
      ]
     },
     "execution_count": 126,
     "metadata": {},
     "output_type": "execute_result"
    },
    {
     "data": {
      "image/png": "[encoded data removed]",
      "text/plain": [
       "<Figure size 432x288 with 1 Axes>"
      ]
     },
     "metadata": {
      "needs_background": "light"
     },
     "output_type": "display_data"
    }
   ],
   "source": [
    "sns.heatmap(df.isnull(),cbar=False,cmap='viridis')"
   ]
  },
  {
   "cell_type": "markdown",
   "id": "bfbb0f04",
   "metadata": {},
   "source": [
    "# Find out the corelation between variables in the given datasetccorelation between different variables"
   ]
  },
  {
   "cell_type": "code",
   "execution_count": 127,
   "id": "b662f686",
   "metadata": {},
   "outputs": [
    {
     "data": {
      "text/plain": [
       "<AxesSubplot:>"
      ]
     },
     "execution_count": 127,
     "metadata": {},
     "output_type": "execute_result"
    },
    {
     "data": {
      "image/png": "[encoded data removed]",
      "text/plain": [
       "<Figure size 720x720 with 2 Axes>"
      ]
     },
     "metadata": {
      "needs_background": "light"
     },
     "output_type": "display_data"
    }
   ],
   "source": [
    "plt.figure(figsize=(10,10))\n",
    "sns.heatmap(df.corr(),cbar=True,annot=True,cmap='Blues')\n"
   ]
  },
  {
   "cell_type": "markdown",
   "id": "d3c2aaf3",
   "metadata": {},
   "source": [
    "# Analyze how the income of a patient affects the no of visits to the hospital"
   ]
  },
  {
   "cell_type": "code",
   "execution_count": 128,
   "id": "d2fad2d9",
   "metadata": {},
   "outputs": [
    {
     "data": {
      "text/plain": [
       "Text(0, 0.5, 'visits')"
      ]
     },
     "execution_count": 128,
     "metadata": {},
     "output_type": "execute_result"
    },
    {
     "data": {
      "image/png": "[encoded data removed]",
      "text/plain": [
       "<Figure size 720x720 with 1 Axes>"
      ]
     },
     "metadata": {
      "needs_background": "light"
     },
     "output_type": "display_data"
    }
   ],
   "source": [
    "#relation btw income and visits\n",
    "plt.figure(figsize=(10,10))\n",
    "plt.scatter(x='income',y='visits',data=df)\n",
    "plt.xlabel('income')\n",
    "plt.ylabel('visits')"
   ]
  },
  {
   "cell_type": "markdown",
   "id": "46affd9a",
   "metadata": {},
   "source": [
    "# Count and visualize the number of males and females affected by illness"
   ]
  },
  {
   "cell_type": "code",
   "execution_count": 129,
   "id": "5cfb3828",
   "metadata": {},
   "outputs": [
    {
     "data": {
      "text/plain": [
       "<AxesSubplot:xlabel='gender', ylabel='Count'>"
      ]
     },
     "execution_count": 129,
     "metadata": {},
     "output_type": "execute_result"
    },
    {
     "data": {
      "image/png": "[encoded data removed]",
      "text/plain": [
       "<Figure size 432x288 with 1 Axes>"
      ]
     },
     "metadata": {
      "needs_background": "light"
     },
     "output_type": "display_data"
    }
   ],
   "source": [
    "sns.histplot(df.gender,bins=2)"
   ]
  },
  {
   "cell_type": "markdown",
   "id": "ceb8a252",
   "metadata": {},
   "source": [
    "# Visualize the percentage of people getting govt health insurance due to low income, due to old age and also the percentage of people having private health insurance"
   ]
  },
  {
   "cell_type": "code",
   "execution_count": 130,
   "id": "75857ebc",
   "metadata": {},
   "outputs": [
    {
     "data": {
      "image/png": "[encoded data removed]",
      "text/plain": [
       "<Figure size 360x360 with 1 Axes>"
      ]
     },
     "metadata": {},
     "output_type": "display_data"
    },
    {
     "data": {
      "image/png": "[encoded data removed]",
      "text/plain": [
       "<Figure size 360x360 with 1 Axes>"
      ]
     },
     "metadata": {},
     "output_type": "display_data"
    },
    {
     "data": {
      "image/png": "[encoded data removed]",
      "text/plain": [
       "<Figure size 360x360 with 1 Axes>"
      ]
     },
     "metadata": {},
     "output_type": "display_data"
    }
   ],
   "source": [
    "# % of people getting govt Insurance due to low income\n",
    "label=['yes','no']\n",
    "Y=df[df['freepoor']=='yes']\n",
    "N=df[df['freepoor']=='no']\n",
    "x=[Y.shape[0],N.shape[0]]\n",
    "plt.figure(figsize=(5,5))\n",
    "plt.pie(x,labels=label)\n",
    "plt.title(\" % of people getting govt Insurance due to low income \")\n",
    "plt.show()\n",
    "# % of people having private Insurance\n",
    "Y=df[df['private']=='yes']\n",
    "N=df[df['private']=='no']\n",
    "x=[Y.shape[0],N.shape[0]]\n",
    "plt.figure(figsize=(5,5))\n",
    "plt.pie(x,labels=label)\n",
    "plt.title(\" % of people private Insurance  \")\n",
    "plt.show()\n",
    "# % of people getting govt Insurance due to old age,disability or veteran status\n",
    "Y=df[df['freerepat']=='yes']\n",
    "N=df[df['freerepat']=='no']\n",
    "x=[Y.shape[0],N.shape[0]]\n",
    "plt.figure(figsize=(5,5))\n",
    "plt.pie(x,labels=label)\n",
    "plt.title(\" % of people getting govt Insurance due to old age,disability or veteran status \")\n",
    "plt.show()\n",
    "\n"
   ]
  },
  {
   "cell_type": "markdown",
   "id": "64f21cfd",
   "metadata": {},
   "source": [
    "# Plot a horizontal bar chart to analyze the reduced days of activity due to illness based on Gender"
   ]
  },
  {
   "cell_type": "code",
   "execution_count": 131,
   "id": "31e8cb68",
   "metadata": {},
   "outputs": [
    {
     "data": {
      "image/png": "[encoded data removed]",
      "text/plain": [
       "<Figure size 432x288 with 1 Axes>"
      ]
     },
     "metadata": {
      "needs_background": "light"
     },
     "output_type": "display_data"
    }
   ],
   "source": [
    "db=df.groupby('gender')['reduced'].sum().to_frame().reset_index()\n",
    "#Creating the bar chart\n",
    "plt.barh(db['gender'],db['reduced'],color=['cornflowerblue','lightseagreen'])\n",
    "#Adding the aesthetics\n",
    "plt.title('Bar Chart')\n",
    "plt.xlabel('Gender')\n",
    "plt.ylabel('Reduced activity')\n",
    "#show the plot\n",
    "plt.show()"
   ]
  },
  {
   "cell_type": "code",
   "execution_count": null,
   "id": "2c9be239",
   "metadata": {},
   "outputs": [],
   "source": []
  }
 ],
 "metadata": {
  "kernelspec": {
   "display_name": "Python 3 (ipykernel)",
   "language": "python",
   "name": "python3"
  },
  "language_info": {
   "codemirror_mode": {
    "name": "ipython",
    "version": 3
   },
   "file_extension": ".py",
   "mimetype": "text/x-python",
   "name": "python",
   "nbconvert_exporter": "python",
   "pygments_lexer": "ipython3",
   "version": "3.9.12"
  }
 },
 "nbformat": 4,
 "nbformat_minor": 5
}
